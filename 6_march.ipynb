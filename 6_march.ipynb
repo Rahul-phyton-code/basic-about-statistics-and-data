{
  "nbformat": 4,
  "nbformat_minor": 0,
  "metadata": {
    "colab": {
      "provenance": [],
      "authorship_tag": "ABX9TyM56gVIPbud1QD++UzQnTnz",
      "include_colab_link": true
    },
    "kernelspec": {
      "name": "python3",
      "display_name": "Python 3"
    },
    "language_info": {
      "name": "python"
    }
  },
  "cells": [
    {
      "cell_type": "markdown",
      "metadata": {
        "id": "view-in-github",
        "colab_type": "text"
      },
      "source": [
        "<a href=\"https://colab.research.google.com/github/Rahul-phyton-code/basic-about-statistics-and-data/blob/main/6_march.ipynb\" target=\"_parent\"><img src=\"https://colab.research.google.com/assets/colab-badge.svg\" alt=\"Open In Colab\"/></a>"
      ]
    },
    {
      "cell_type": "markdown",
      "source": [
        "1.) It is a science of collecting , organising and analysing data by which we are able to create visualisation report in form of graphs, diagrams,etc."
      ],
      "metadata": {
        "id": "PkisGXZQ2vFk"
      }
    },
    {
      "cell_type": "markdown",
      "source": [
        "2.) Statistics is divided in to 2 parts-\n",
        "1.) Descriptive stats - it consist of organising and summarising data and after that we use certain techniques acoording to problem statement to retreive information from data.\n",
        "\n",
        "ex - Suppose there are 50 students in university from where we have collected height of students in class:-\n",
        "      [175cm , 180 cm , 160 cm ,150cm....]\n",
        "descriptive ques be like -\n",
        "# what is average height of students in class?\n",
        "# what is the common height of students?\n",
        "\n",
        "2.) Influential stats - With the hrlp of data we have to make some kind of conclusion.\n",
        "\n",
        "ex - As from above problem statement , the influential ques be like:-\n",
        "# Are the average height of students in classroom similar to what you expect in entire college\n",
        "\n"
      ],
      "metadata": {
        "id": "lfYm8hvd3G2B"
      }
    },
    {
      "cell_type": "markdown",
      "source": [
        "3) There are two types of data: Qualitative and Quantitative data.\n",
        "The Qualitative data are further classified into two parts :\n",
        "a.)Nominal Data\n",
        "Nominal Data is used to label variables without any order or quantitative value. The color of hair can be considered nominal data, as one color can’t be compared with another color.\n",
        "b.)Ordinal data\n",
        " Ordinal data have natural ordering where a number is present in some kind of order by their position on the scale. These data are used for observation like customer satisfaction, happiness, etc., but we can’t do any arithmetical tasks on them. \n",
        " The Quantitative data are further classified into two parts :\n",
        "a.) Discrete Data\n",
        "The term discrete means distinct or separate. The discrete data contain the values that fall under integers or whole numbers. The total number of students in a class is an example of discrete data. These data can’t be broken into decimal or fraction values.\n",
        "b.) Continuous Data\n",
        "Continuous data are in the form of fractional numbers. It can be the version of an android phone, the height of a person, the length of an object, etc. Continuous data represents information that can be divided into smaller levels. The continuous variable can take any value within a range. "
      ],
      "metadata": {
        "id": "JrJ1AyNrDSIs"
      }
    },
    {
      "cell_type": "markdown",
      "source": [
        "4.) (i) Grading in exam: A+, A, B+, B, C+, C, D, E - Qualitative Data\n",
        "(ii) Colour of mangoes: yellow, green, orange, red - Nominal Data\n",
        "(iii) Height data of a class: [178.9, 179, 179.5, 176, 177.2, 178.3, 175.8,...] - Quantitative Data\n",
        "(iv) Number of mangoes exported by a farm: [500, 600, 478, 672, ...] - Quantitative Data"
      ],
      "metadata": {
        "id": "NTMDr39W7svl"
      }
    },
    {
      "cell_type": "markdown",
      "source": [
        "5.)Levels of measurement, also called scales of measurement, tell you how precisely variables are recorded. \n",
        "\n",
        "There are 4 levels of measurement:\n",
        "\n",
        "Nominal: the data can only be categorized\n",
        "Ordinal: the data can be categorized and ranked\n",
        "Interval: the data can be categorized, ranked, and evenly spaced\n",
        "Ratio: the data can be categorized, ranked, evenly spaced, and has a natural zero.\n"
      ],
      "metadata": {
        "id": "ho-UY0ROAeiS"
      }
    },
    {
      "cell_type": "markdown",
      "source": [
        "6.) The level at which you measure a variable determines how you can analyze your data.\n",
        "\n",
        "The different levels limit which descriptive statistics you can use to get an overall summary of your data, and which type of inferential statistics you can perform on your data to support or refute your hypothesis.\n",
        "\n",
        "In many cases, your variables can be measured at different levels, so you have to choose the level of measurement you will use before data collection begins."
      ],
      "metadata": {
        "id": "zIE7Vj74A6P9"
      }
    },
    {
      "cell_type": "markdown",
      "source": [
        "7.) Nominal Data\t\n",
        "1.)Nominal data can’t be quantified, neither they have any intrinsic ordering\n",
        "2.)Nominal data is qualitative data or categorical data\n",
        "3.)They don’t provide any quantitative value, neither can we perform any arithmetical operation\n",
        "Examples: Eye color, housing style, gender, hair color, religion, marital status, ethnicity, etc\n",
        "\n",
        "ordinal Data\t\n",
        "1.)Ordinal data gives some kind of sequential order by their position on the scale\n",
        "2.)Ordinal data is said to be “in-between” qualitative data and quantitative data\n",
        "3.)They provide sequence and can assign numbers to ordinal data but cannot perform the arithmetical operation\n",
        "Examples: Economic status, customer satisfaction, education level, letter grades, etc "
      ],
      "metadata": {
        "id": "BzujhTXiF6jR"
      }
    },
    {
      "cell_type": "markdown",
      "source": [
        "8.) Histogram plot can be used to display data in terms of range"
      ],
      "metadata": {
        "id": "GsNvVxMTGxcY"
      }
    },
    {
      "cell_type": "markdown",
      "source": [
        "9.) Descriptive statistics summarize the characteristics of a data set. Inferential statistics allow you to test a hypothesis or assess whether your data is generalizable to the broader population.\n",
        "\n"
      ],
      "metadata": {
        "id": "1vewhZZ9HBm8"
      }
    },
    {
      "cell_type": "markdown",
      "source": [
        "10.) Measures of central tendency are summary statistics that represent the center point or typical value of a dataset. Examples of these measures include the mean, median, and mode. These statistics indicate where most values in a distribution fall and are also referred to as the central location of a distribution."
      ],
      "metadata": {
        "id": "Kcsyql_xHjKM"
      }
    }
  ]
}